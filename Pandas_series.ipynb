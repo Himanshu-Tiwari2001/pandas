{
 "cells": [
  {
   "cell_type": "markdown",
   "id": "81108027-07c2-409a-b800-6c93b3f700fb",
   "metadata": {},
   "source": [
    "# Pandas Series📜\n",
    "### A pandas series is a one dimensional  araay of indexed data\n",
    "#### pandas.Series(data,index,dtype,copy)"
   ]
  },
  {
   "cell_type": "code",
   "execution_count": 3,
   "id": "7a8f3cc0-c989-4e36-8b13-ddb16e155337",
   "metadata": {
    "scrolled": true
   },
   "outputs": [
    {
     "name": "stdout",
     "output_type": "stream",
     "text": [
      "A python list\n",
      " 0     20000\n",
      "1     30000\n",
      "2     40000\n",
      "3     80000\n",
      "4    100000\n",
      "dtype: int64\n",
      "Numpy series\n",
      " 0     20000\n",
      "1     30000\n",
      "2     40000\n",
      "3     80000\n",
      "4    100000\n",
      "dtype: int32\n"
     ]
    }
   ],
   "source": [
    "# it can be created using A python list and Numpy Array\n",
    "# create Series\n",
    "import pandas as pd\n",
    "import numpy as np\n",
    "salary=pd.Series([20000,30000,40000,80000,100000])\n",
    "print(\"A python list\\n\",salary)\n",
    "\n",
    "numpy_Salary=pd.Series(np.array([20000,30000,40000,80000,100000]))\n",
    "print(\"Numpy series\\n\",numpy_Salary)\n"
   ]
  },
  {
   "cell_type": "markdown",
   "id": "e3fb9dc7-3d2e-4641-b2d8-9329117e6632",
   "metadata": {},
   "source": [
    "### Setting index to the series👇"
   ]
  },
  {
   "cell_type": "code",
   "execution_count": 18,
   "id": "ef7e2662-0cf6-4fe4-bdee-9c1ab04412a1",
   "metadata": {
    "scrolled": true
   },
   "outputs": [
    {
     "data": {
      "text/plain": [
       "0     20000\n",
       "2     30000\n",
       "4     40000\n",
       "6     80000\n",
       "8    100000\n",
       "dtype: int32"
      ]
     },
     "execution_count": 18,
     "metadata": {},
     "output_type": "execute_result"
    }
   ],
   "source": [
    "Salary_series_index=pd.Series(\n",
    "    np.array([20000,30000,40000,80000,100000]),\n",
    "    index=np.arange(0,10,2) # pass index parameter\n",
    ")\n",
    "Salary_series_index\n"
   ]
  },
  {
   "cell_type": "code",
   "execution_count": 19,
   "id": "551b2322-ca6b-4857-91a0-a483159e77e1",
   "metadata": {
    "scrolled": true
   },
   "outputs": [
    {
     "data": {
      "text/plain": [
       "A1     20000\n",
       "A2     30000\n",
       "A3     40000\n",
       "A4     80000\n",
       "A5    100000\n",
       "dtype: int32"
      ]
     },
     "execution_count": 19,
     "metadata": {},
     "output_type": "execute_result"
    }
   ],
   "source": [
    "# we can sepecify string as index value\n",
    "emp_series=pd.Series(\n",
    "    np.array([20000,30000,40000,80000,100000]),\n",
    "    index=[\"A1\",\"A2\",\"A3\",\"A4\",\"A5\"] # string as a row index\n",
    ")\n",
    "emp_series\n"
   ]
  },
  {
   "cell_type": "markdown",
   "id": "7906d7d8-414b-422e-942c-5e2be3033044",
   "metadata": {},
   "source": [
    "### Creating Series from Dictionary👇"
   ]
  },
  {
   "cell_type": "code",
   "execution_count": 21,
   "id": "943ccee7-9490-41dc-a49b-33a93a43dd03",
   "metadata": {
    "scrolled": true
   },
   "outputs": [
    {
     "data": {
      "text/plain": [
       "Dairy          2000\n",
       "Fruit Juice    4500\n",
       "Fruits         5500\n",
       "Vegetable      6000\n",
       "dtype: int64"
      ]
     },
     "execution_count": 21,
     "metadata": {},
     "output_type": "execute_result"
    }
   ],
   "source": [
    "prod_dict={\"Dairy\":2000,\"Fruit Juice\":4500,\"Fruits\":5500,\"Vegetable\":6000}\n",
    "product_series=pd.Series(prod_dict)\n",
    "product_series\n",
    "# the key becomes the row index while the values is the row values  at that index "
   ]
  },
  {
   "cell_type": "markdown",
   "id": "ea111246-32d0-43a9-884c-523034b1d1c1",
   "metadata": {},
   "source": [
    "### ACCESSING SERIES INDEX AND VALUES👇"
   ]
  },
  {
   "cell_type": "code",
   "execution_count": 23,
   "id": "6da298a1-8007-4e59-9e5b-f37ac7dc8b30",
   "metadata": {
    "scrolled": true
   },
   "outputs": [
    {
     "data": {
      "text/plain": [
       "X    [Maths, Science, English]\n",
       "Y             [Maths, Science]\n",
       "Z            [History, Polity]\n",
       "dtype: object"
      ]
     },
     "execution_count": 23,
     "metadata": {},
     "output_type": "execute_result"
    }
   ],
   "source": [
    "subject_dict={\"X\":[\"Maths\",\"Science\",\"English\"],\n",
    "               \"Y\":[\"Maths\",\"Science\"],\n",
    "              \"Z\":[\"History\", \"Polity\"]\n",
    "             }\n",
    "Subject_Series=pd.Series(subject_dict)\n",
    "Subject_Series\n",
    "\n",
    "# If we have multiple values for a single key, those multiple values will take up a single row\n"
   ]
  },
  {
   "cell_type": "code",
   "execution_count": 30,
   "id": "ee47f4c5-4d49-4637-9d44-001b372c4484",
   "metadata": {
    "scrolled": true
   },
   "outputs": [
    {
     "name": "stdout",
     "output_type": "stream",
     "text": [
      "Index(['X', 'Y', 'Z'], dtype='object')\n",
      "----------------------------------------------------\n",
      "Values Are \n",
      "\n",
      "[list(['Maths', 'Science', 'English']) list(['Maths', 'Science'])\n",
      " list(['History', 'Polity'])]\n"
     ]
    }
   ],
   "source": [
    "subject_dict={\"X\":[\"Maths\",\"Science\",\"English\"],\n",
    "               \"Y\":[\"Maths\",\"Science\"],\n",
    "              \"Z\":[\"History\", \"Polity\"]\n",
    "             }\n",
    "Subject_Series=pd.Series(subject_dict)\n",
    "print(Subject_Series.index)\n",
    "print(\"--------------------\")\n",
    "# display values\n",
    "print(\"Values Are \\n\")\n",
    "print(Subject_Series.values)"
   ]
  },
  {
   "cell_type": "markdown",
   "id": "9ce298a6-3168-432c-8ed3-d284fb145276",
   "metadata": {},
   "source": [
    "### Accessing Series Elements👇"
   ]
  },
  {
   "cell_type": "code",
   "execution_count": 38,
   "id": "2624cd32-f44b-4862-9ee7-479534e7a5a2",
   "metadata": {
    "scrolled": true
   },
   "outputs": [
    {
     "name": "stdout",
     "output_type": "stream",
     "text": [
      "3\n",
      "X    [Maths, Science, English]\n",
      "Y             [Maths, Science]\n",
      "Z            [History, Polity]\n",
      "dtype: object\n",
      "----------------------------------\n",
      "X    [Maths, Science, English]\n",
      "Y             [Maths, Science]\n",
      "dtype: object\n"
     ]
    }
   ],
   "source": [
    "subject_dict={\"X\":[\"Maths\",\"Science\",\"English\"],\n",
    "               \"Y\":[\"Maths\",\"Science\"],\n",
    "              \"Z\":[\"History\", \"Polity\"]\n",
    "             }\n",
    "Subject_Series=pd.Series(subject_dict)\n",
    "Size=Subject_Series.size\n",
    "print(Size)\n",
    "print(Subject_Series[:Size]) # print all element\n",
    "print(\"----------------------------------\")\n",
    "print(Subject_Series[:2]) # retrieve first 2 elemets"
   ]
  },
  {
   "cell_type": "code",
   "execution_count": 46,
   "id": "8f0b6da0-86a1-47d5-af3f-cf5a0b4fcbc6",
   "metadata": {
    "scrolled": true
   },
   "outputs": [
    {
     "name": "stdout",
     "output_type": "stream",
     "text": [
      "['Maths', 'Science', 'English']\n",
      "-------------------------------\n",
      "X    [Maths, Science, English]\n",
      "Y             [Maths, Science]\n",
      "dtype: object\n"
     ]
    }
   ],
   "source": [
    "subject_dict={\"X\":[\"Maths\",\"Science\",\"English\"],\n",
    "               \"Y\":[\"Maths\",\"Science\"],\n",
    "              \"Z\":[\"History\", \"Polity\"]\n",
    "             }\n",
    "Subject_Series=pd.Series(subject_dict)\n",
    "print(Subject_Series[\"X\"]) # retrieving tehe element using \n",
    "print(\"-------------------------------\")\n",
    "print(Subject_Series[[\"X\",\"Y\"]]) # retrieving  multiple elements using the list of the indices"
   ]
  },
  {
   "cell_type": "code",
   "execution_count": null,
   "id": "18947850-d2b8-4d93-b884-aea781134555",
   "metadata": {},
   "outputs": [],
   "source": []
  },
  {
   "cell_type": "code",
   "execution_count": 43,
   "id": "9fd5630e-6968-4999-bab1-3172c3c2c797",
   "metadata": {
    "scrolled": true
   },
   "outputs": [
    {
     "name": "stdout",
     "output_type": "stream",
     "text": [
      "0    Himanshu\n",
      "1      Ritesh\n",
      "2       Rohit\n",
      "3      Shivam\n",
      "4       Virat\n",
      "5       Rahul\n",
      "6        Gill\n",
      "dtype: object\n",
      "----------------------------------\n",
      "2     Rohit\n",
      "3    Shivam\n",
      "4     Virat\n",
      "5     Rahul\n",
      "6      Gill\n",
      "dtype: object\n"
     ]
    }
   ],
   "source": [
    "# to print the element from the last\n",
    "Name = pd.Series([\"Himanshu\",\"Ritesh\",\"Rohit\",\"Shivam\",\"Virat\",\"Rahul\",\"Gill\"])\n",
    "print(Name)\n",
    "print(\"----------------------------------\")\n",
    "\n",
    "print(Name[-5:]) # retrieve last five elements\n"
   ]
  },
  {
   "cell_type": "markdown",
   "id": "5a42c369-c6f0-48ab-8721-ed25e62c63c3",
   "metadata": {},
   "source": [
    "# --------------------------------------\n",
    "## Filter the Values👇"
   ]
  },
  {
   "cell_type": "code",
   "execution_count": 61,
   "id": "98b5cbcb-64e5-4552-9bec-937de0503848",
   "metadata": {
    "scrolled": true
   },
   "outputs": [
    {
     "name": "stdout",
     "output_type": "stream",
     "text": [
      "Aman      95\n",
      "Ankush    93\n",
      "Rohit     85\n",
      "dtype: int32\n",
      "--------------------------------\n",
      "Ankush    93\n",
      "Rohit     85\n",
      "Rohan     75\n",
      "Vikash    76\n",
      "varun     80\n",
      "dtype: int32\n",
      "95\n"
     ]
    }
   ],
   "source": [
    "Student_marks=pd.Series(\n",
    "     np.array([95,93,85,75,76,80]),\n",
    "    index=[\"Aman\",\"Ankush\",\"Rohit\",\"Rohan\",\"Vikash\",\"varun\"]\n",
    "    \n",
    ")\n",
    "print(Student_marks[Student_marks>80])\n",
    "print(\"--------------------------------\")\n",
    "print(Student_marks[Student_marks <95 ])\n",
    "\n",
    "print(Student_marks[\"Aman\"])\n",
    "\n",
    "\n",
    "    \n"
   ]
  },
  {
   "cell_type": "markdown",
   "id": "9911401e-3f6a-49ff-94b6-7d6c203e2a34",
   "metadata": {},
   "source": [
    "# Arithmetics Operations👇"
   ]
  },
  {
   "cell_type": "markdown",
   "id": "44381e39-df5e-49b9-8494-5f207346ed8e",
   "metadata": {},
   "source": [
    "### Scaler -Series Multiplicaton"
   ]
  },
  {
   "cell_type": "code",
   "execution_count": 62,
   "id": "78bd6153-cd5e-40b1-a2bf-60e0957bc1b9",
   "metadata": {
    "scrolled": true
   },
   "outputs": [
    {
     "name": "stdout",
     "output_type": "stream",
     "text": [
      "0    2400\n",
      "1    3000\n",
      "2    4000\n",
      "dtype: int64\n"
     ]
    }
   ],
   "source": [
    "sales=pd.Series([1200,1500,2000])\n",
    "Sales2=sales*2\n",
    "print(Sales2)"
   ]
  },
  {
   "cell_type": "code",
   "execution_count": 63,
   "id": "96126304-bb6d-471d-806d-a634cc78f94f",
   "metadata": {},
   "outputs": [
    {
     "name": "stdout",
     "output_type": "stream",
     "text": [
      "0    120\n",
      "1    225\n",
      "2    360\n",
      "dtype: int64\n"
     ]
    }
   ],
   "source": [
    "# The multiply() method returns the element-wise multiplication of two series\n",
    "MRP=pd.Series([12,15,18])\n",
    "sales=pd.Series([10,15,20])\n",
    "\n",
    "Total=MRP.multiply(sales)\n",
    "print(Total)\n"
   ]
  },
  {
   "cell_type": "markdown",
   "id": "6e71678f-0e89-45bf-810b-7f8ef252f333",
   "metadata": {},
   "source": [
    "### Addition of two series"
   ]
  },
  {
   "cell_type": "code",
   "execution_count": 64,
   "id": "099f36f6-01f6-44de-a467-f0c8fb21a6cf",
   "metadata": {
    "scrolled": true
   },
   "outputs": [
    {
     "name": "stdout",
     "output_type": "stream",
     "text": [
      "0    188\n",
      "1    177\n",
      "2    172\n",
      "dtype: int64\n"
     ]
    }
   ],
   "source": [
    "English_marks=pd.Series([98,85,90])\n",
    "Maths_marks=pd.Series([90,92,82])\n",
    "\n",
    "Total_marks=English_marks+Maths_marks\n",
    "print(Total_marks)"
   ]
  },
  {
   "cell_type": "code",
   "execution_count": 65,
   "id": "4627d34b-19a7-4644-bf26-65ceedf70408",
   "metadata": {
    "scrolled": true
   },
   "outputs": [
    {
     "name": "stdout",
     "output_type": "stream",
     "text": [
      "0    188.0\n",
      "1    177.0\n",
      "2      NaN\n",
      "dtype: float64\n"
     ]
    }
   ],
   "source": [
    "# If the length of the two series are different, then the addition of such series shows the null values (NaN) for the indexes where the values are missing in one of the series\n",
    "English_marks=pd.Series([98,85,90])\n",
    "Maths_marks=pd.Series([90,92])\n",
    "\n",
    "Total_marks=English_marks+Maths_marks\n",
    "print(Total_marks)\n"
   ]
  },
  {
   "cell_type": "markdown",
   "id": "4d789f02-0e6c-41f2-970e-4d2e3ead95c0",
   "metadata": {},
   "source": [
    "## Series Ranking and Sorting"
   ]
  },
  {
   "cell_type": "code",
   "execution_count": 5,
   "id": "12757656-013c-4a49-ba1a-3ce4e5da73e0",
   "metadata": {
    "scrolled": true
   },
   "outputs": [
    {
     "data": {
      "text/plain": [
       "0    4.0\n",
       "1    7.0\n",
       "2    6.0\n",
       "3    8.0\n",
       "4    1.0\n",
       "5    5.0\n",
       "6    2.0\n",
       "7    9.0\n",
       "8    3.0\n",
       "dtype: float64"
      ]
     },
     "execution_count": 5,
     "metadata": {},
     "output_type": "execute_result"
    }
   ],
   "source": [
    "# creating Simple Array\n",
    "Score = np.array([121,212,153,214,116,137,118,219,120])\n",
    "score_series=pd.Series(Score)\n",
    "score_series.rank() # returns the rank of the underlying data\n",
    "\n",
    "# the Rank() method by default returns the ranking in ascending order\n"
   ]
  },
  {
   "cell_type": "markdown",
   "id": "55b866f0-d28e-4e63-9df0-9bff66dd2677",
   "metadata": {},
   "source": [
    "#### The sort_values method sorts the series by values in the series"
   ]
  },
  {
   "cell_type": "code",
   "execution_count": 7,
   "id": "edc69a63-f115-49d5-8039-61611ff048db",
   "metadata": {
    "scrolled": true
   },
   "outputs": [
    {
     "data": {
      "text/plain": [
       "5    116.0\n",
       "9    120.0\n",
       "0    121.0\n",
       "6    137.0\n",
       "2    153.0\n",
       "1    212.0\n",
       "3    214.0\n",
       "8    219.0\n",
       "4      NaN\n",
       "7      NaN\n",
       "dtype: float64"
      ]
     },
     "execution_count": 7,
     "metadata": {},
     "output_type": "execute_result"
    }
   ],
   "source": [
    "Score = np.array([121,212,153,214,np.nan,116,137,np.nan,219,120])\n",
    "score_series=pd.Series(Score)\n",
    "score_series.sort_values(ascending=True, na_position =\"last\") # here last -> return the null values in the last position"
   ]
  },
  {
   "cell_type": "code",
   "execution_count": 8,
   "id": "97392e00-7679-4f41-bd57-c196ef25ea8b",
   "metadata": {
    "scrolled": true
   },
   "outputs": [
    {
     "data": {
      "text/plain": [
       "4      NaN\n",
       "7      NaN\n",
       "8    219.0\n",
       "3    214.0\n",
       "1    212.0\n",
       "2    153.0\n",
       "6    137.0\n",
       "0    121.0\n",
       "9    120.0\n",
       "5    116.0\n",
       "dtype: float64"
      ]
     },
     "execution_count": 8,
     "metadata": {},
     "output_type": "execute_result"
    }
   ],
   "source": [
    "Score = np.array([121,212,153,214,np.nan,116,137,np.nan,219,120])\n",
    "score_series=pd.Series(Score)\n",
    "score_series.sort_values(ascending=False, na_position =\"first\") # here first -> return the null values in the first  position"
   ]
  },
  {
   "cell_type": "markdown",
   "id": "da61a6a4-7466-43e9-a1f2-7b7b57302618",
   "metadata": {},
   "source": [
    "## Checking Null Values\n",
    "#### • The isnull() method returns the boolean output indicating the presence of null    values \n",
    "#### • ‘True’ value indicates that the corresponding value is null\n",
    "\n",
    "#### • The notnull() method returns the boolean output indicating the presence of non-null values \n",
    "#### • ‘False’ in the output indicates that the corresponding value is null"
   ]
  },
  {
   "cell_type": "code",
   "execution_count": 9,
   "id": "253ed90a-6f1b-45fa-a9d5-50d6af04629c",
   "metadata": {
    "scrolled": true
   },
   "outputs": [
    {
     "data": {
      "text/plain": [
       "0    False\n",
       "1     True\n",
       "2    False\n",
       "3    False\n",
       "4     True\n",
       "5    False\n",
       "6    False\n",
       "dtype: bool"
      ]
     },
     "execution_count": 9,
     "metadata": {},
     "output_type": "execute_result"
    }
   ],
   "source": [
    "height=pd.Series([4.4,np.nan,6.0,3.9,np.nan,5.4,5.9])\n",
    "height.isnull()\n"
   ]
  },
  {
   "cell_type": "code",
   "execution_count": 10,
   "id": "ff77e366-35c0-499e-a909-b4ef73f55734",
   "metadata": {
    "scrolled": true
   },
   "outputs": [
    {
     "data": {
      "text/plain": [
       "0     True\n",
       "1    False\n",
       "2     True\n",
       "3     True\n",
       "4    False\n",
       "5     True\n",
       "6     True\n",
       "dtype: bool"
      ]
     },
     "execution_count": 10,
     "metadata": {},
     "output_type": "execute_result"
    }
   ],
   "source": [
    "height=pd.Series([4.4,np.nan,6.0,3.9,np.nan,5.4,5.9])\n",
    "height.notnull()"
   ]
  },
  {
   "cell_type": "markdown",
   "id": "836df6bd-798c-483b-b64d-1931b2e0760e",
   "metadata": {},
   "source": [
    "## Concatenate A Series\n",
    "#### create two series using linspace\n",
    "#### \"Start\" returns the starting Value of the sequesnce\n",
    "#### \"Stop\" returns the end point of the sequence\n",
    "#### \"num\" returns the number of samples\n",
    "\n",
    "\n",
    "\n"
   ]
  },
  {
   "cell_type": "code",
   "execution_count": 16,
   "id": "9e0ce61b-1076-402c-9ef0-b7fc308ff02a",
   "metadata": {},
   "outputs": [
    {
     "name": "stdout",
     "output_type": "stream",
     "text": [
      "0      0.0\n",
      "1      2.0\n",
      "2      4.0\n",
      "3      6.0\n",
      "4      8.0\n",
      "5     10.0\n",
      "6     12.0\n",
      "7     14.0\n",
      "8     16.0\n",
      "9     18.0\n",
      "10    20.0\n",
      "0      1.0\n",
      "1      3.0\n",
      "2      5.0\n",
      "3      7.0\n",
      "4      9.0\n",
      "5     11.0\n",
      "6     13.0\n",
      "7     15.0\n",
      "8     17.0\n",
      "9     19.0\n",
      "10    21.0\n",
      "dtype: float64\n"
     ]
    }
   ],
   "source": [
    "class1=np.linspace(start=0,stop=20,num=11)\n",
    "class1Series=pd.Series(class1)\n",
    "\n",
    "class2=np.linspace(start=1,stop=21,num=11)\n",
    "class2Series=pd.Series(class2)\n",
    "\n",
    "print(pd.concat([class1Series,class2Series]))\n"
   ]
  },
  {
   "cell_type": "code",
   "execution_count": 22,
   "id": "6dd244ab-636a-46a6-9757-4838b14456b5",
   "metadata": {},
   "outputs": [
    {
     "name": "stdout",
     "output_type": "stream",
     "text": [
      "Category  Index\n",
      "Even      0         0.0\n",
      "          1         2.0\n",
      "          2         4.0\n",
      "          3         6.0\n",
      "          4         8.0\n",
      "          5        10.0\n",
      "          6        12.0\n",
      "          7        14.0\n",
      "          8        16.0\n",
      "          9        18.0\n",
      "          10       20.0\n",
      "Odd       0         1.0\n",
      "          1         3.0\n",
      "          2         5.0\n",
      "          3         7.0\n",
      "          4         9.0\n",
      "          5        11.0\n",
      "          6        13.0\n",
      "          7        15.0\n",
      "          8        17.0\n",
      "          9        19.0\n",
      "          10       21.0\n",
      "dtype: float64\n",
      "--------------------------------------------------------------------------\n",
      "Index\n",
      "0      0.0\n",
      "1      2.0\n",
      "2      4.0\n",
      "3      6.0\n",
      "4      8.0\n",
      "5     10.0\n",
      "6     12.0\n",
      "7     14.0\n",
      "8     16.0\n",
      "9     18.0\n",
      "10    20.0\n",
      "dtype: float64\n"
     ]
    }
   ],
   "source": [
    " concatedSequence =pd.concat([class1Series,class2Series], keys=[\"Even\",\"Odd\"],\n",
    "              names =[\"Category\",\"Index\"])\n",
    "print(concatedSequence)\n",
    "print(\"--------------------------------------------------------------------------\")\n",
    "\n",
    "# we can access the \n",
    "print(concatedSequence[\"Even\"])\n",
    "\n",
    "\n",
    "\n"
   ]
  },
  {
   "cell_type": "markdown",
   "id": "13e3d806-c4c3-4e7d-aecc-e5505e561920",
   "metadata": {},
   "source": [
    "## append() Method\n",
    "#### The append() method is used append a series with another \n",
    "#### • Here, we append the ‘class1_series’ to ‘class2_series’ \n",
    "#### • Appended indexes are same as the original series"
   ]
  },
  {
   "cell_type": "code",
   "execution_count": 23,
   "id": "84e93d4f-9177-4c97-a222-703c3822b50c",
   "metadata": {},
   "outputs": [
    {
     "ename": "AttributeError",
     "evalue": "'Series' object has no attribute 'append'",
     "output_type": "error",
     "traceback": [
      "\u001b[1;31m---------------------------------------------------------------------------\u001b[0m",
      "\u001b[1;31mAttributeError\u001b[0m                            Traceback (most recent call last)",
      "\u001b[1;32m~\\AppData\\Local\\Temp\\ipykernel_3340\\2443518258.py\u001b[0m in \u001b[0;36m?\u001b[1;34m()\u001b[0m\n\u001b[1;32m----> 1\u001b[1;33m \u001b[0mconcatSeries\u001b[0m\u001b[1;33m=\u001b[0m\u001b[0mclass1Series\u001b[0m\u001b[1;33m.\u001b[0m\u001b[0mappend\u001b[0m\u001b[1;33m(\u001b[0m\u001b[0mclass2Series\u001b[0m\u001b[1;33m,\u001b[0m\u001b[0mignore_index\u001b[0m\u001b[1;33m=\u001b[0m\u001b[1;32mTrue\u001b[0m\u001b[1;33m)\u001b[0m\u001b[1;33m\u001b[0m\u001b[1;33m\u001b[0m\u001b[0m\n\u001b[0m\u001b[0;32m      2\u001b[0m \u001b[0mprint\u001b[0m\u001b[1;33m(\u001b[0m\u001b[0mconcatSeries\u001b[0m\u001b[1;33m)\u001b[0m\u001b[1;33m\u001b[0m\u001b[1;33m\u001b[0m\u001b[0m\n",
      "\u001b[1;32m~\\AppData\\Local\\Programs\\Python\\Python312\\Lib\\site-packages\\pandas\\core\\generic.py\u001b[0m in \u001b[0;36m?\u001b[1;34m(self, name)\u001b[0m\n\u001b[0;32m   6295\u001b[0m             \u001b[1;32mand\u001b[0m \u001b[0mname\u001b[0m \u001b[1;32mnot\u001b[0m \u001b[1;32min\u001b[0m \u001b[0mself\u001b[0m\u001b[1;33m.\u001b[0m\u001b[0m_accessors\u001b[0m\u001b[1;33m\u001b[0m\u001b[1;33m\u001b[0m\u001b[0m\n\u001b[0;32m   6296\u001b[0m             \u001b[1;32mand\u001b[0m \u001b[0mself\u001b[0m\u001b[1;33m.\u001b[0m\u001b[0m_info_axis\u001b[0m\u001b[1;33m.\u001b[0m\u001b[0m_can_hold_identifiers_and_holds_name\u001b[0m\u001b[1;33m(\u001b[0m\u001b[0mname\u001b[0m\u001b[1;33m)\u001b[0m\u001b[1;33m\u001b[0m\u001b[1;33m\u001b[0m\u001b[0m\n\u001b[0;32m   6297\u001b[0m         \u001b[1;33m)\u001b[0m\u001b[1;33m:\u001b[0m\u001b[1;33m\u001b[0m\u001b[1;33m\u001b[0m\u001b[0m\n\u001b[0;32m   6298\u001b[0m             \u001b[1;32mreturn\u001b[0m \u001b[0mself\u001b[0m\u001b[1;33m[\u001b[0m\u001b[0mname\u001b[0m\u001b[1;33m]\u001b[0m\u001b[1;33m\u001b[0m\u001b[1;33m\u001b[0m\u001b[0m\n\u001b[1;32m-> 6299\u001b[1;33m         \u001b[1;32mreturn\u001b[0m \u001b[0mobject\u001b[0m\u001b[1;33m.\u001b[0m\u001b[0m__getattribute__\u001b[0m\u001b[1;33m(\u001b[0m\u001b[0mself\u001b[0m\u001b[1;33m,\u001b[0m \u001b[0mname\u001b[0m\u001b[1;33m)\u001b[0m\u001b[1;33m\u001b[0m\u001b[1;33m\u001b[0m\u001b[0m\n\u001b[0m",
      "\u001b[1;31mAttributeError\u001b[0m: 'Series' object has no attribute 'append'"
     ]
    }
   ],
   "source": [
    "concatSeries=class1Series.append(class2Series,ignore_index=True)\n",
    "print(concatSeries)"
   ]
  },
  {
   "cell_type": "code",
   "execution_count": null,
   "id": "383880f7-189e-43e9-adc8-61f333ed7e26",
   "metadata": {},
   "outputs": [],
   "source": []
  }
 ],
 "metadata": {
  "kernelspec": {
   "display_name": "Python 3 (ipykernel)",
   "language": "python",
   "name": "python3"
  },
  "language_info": {
   "codemirror_mode": {
    "name": "ipython",
    "version": 3
   },
   "file_extension": ".py",
   "mimetype": "text/x-python",
   "name": "python",
   "nbconvert_exporter": "python",
   "pygments_lexer": "ipython3",
   "version": "3.12.2"
  }
 },
 "nbformat": 4,
 "nbformat_minor": 5
}
